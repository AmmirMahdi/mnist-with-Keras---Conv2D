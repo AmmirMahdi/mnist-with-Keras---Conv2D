{
  "nbformat": 4,
  "nbformat_minor": 0,
  "metadata": {
    "colab": {
      "name": "Deep Learning - mnist with Conv2D.ipynb",
      "version": "0.3.2",
      "provenance": []
    },
    "kernelspec": {
      "name": "python3",
      "display_name": "Python 3"
    },
    "accelerator": "GPU"
  },
  "cells": [
    {
      "metadata": {
        "id": "sXQfNJAu5ZGX",
        "colab_type": "text"
      },
      "cell_type": "markdown",
      "source": [
        "# Import Library"
      ]
    },
    {
      "metadata": {
        "id": "tH3EC8sY5ZEx",
        "colab_type": "text"
      },
      "cell_type": "markdown",
      "source": [
        ""
      ]
    },
    {
      "metadata": {
        "id": "7Jh0kwimwYnB",
        "colab_type": "code",
        "colab": {}
      },
      "cell_type": "code",
      "source": [
        "import numpy as np\n",
        "import keras \n",
        "from keras.layers import Dense,Flatten, Dropout,Conv2D,MaxPooling2D,Activation\n",
        "from keras.models import Sequential\n",
        "from keras.regularizers import l2\n",
        "from keras.datasets import mnist\n",
        "import matplotlib.pyplot as plt"
      ],
      "execution_count": 0,
      "outputs": []
    },
    {
      "metadata": {
        "id": "kUxgOuOVxIuj",
        "colab_type": "code",
        "colab": {}
      },
      "cell_type": "code",
      "source": [
        "(x_train, y_train), (x_test, y_test) = mnist.load_data()"
      ],
      "execution_count": 0,
      "outputs": []
    },
    {
      "metadata": {
        "id": "lvjJpyVtxX9P",
        "colab_type": "text"
      },
      "cell_type": "markdown",
      "source": [
        "# Preprocessing"
      ]
    },
    {
      "metadata": {
        "id": "wHBZu7sDxXez",
        "colab_type": "code",
        "colab": {
          "base_uri": "https://localhost:8080/",
          "height": 52
        },
        "outputId": "ac18d90a-7022-4d3f-8ce6-66c6a9760412"
      },
      "cell_type": "code",
      "source": [
        "print(\"X_train shape : {}\".format(x_train.shape))\n",
        "print(\"X_test shape  : {}\".format(x_test.shape))"
      ],
      "execution_count": 3,
      "outputs": [
        {
          "output_type": "stream",
          "text": [
            "X_train shape : (60000, 28, 28)\n",
            "X_test shape  : (10000, 28, 28)\n"
          ],
          "name": "stdout"
        }
      ]
    },
    {
      "metadata": {
        "id": "4AKwhtmJxXbJ",
        "colab_type": "code",
        "colab": {}
      },
      "cell_type": "code",
      "source": [
        "x_train = x_train.reshape(60000, 28, 28, 1).astype('float32')\n",
        "x_test  = x_test.reshape(10000, 28, 28, 1).astype('float32')\n",
        "\n",
        "x_train /= 255\n",
        "x_test /= 255"
      ],
      "execution_count": 0,
      "outputs": []
    },
    {
      "metadata": {
        "id": "8czhkx1AxXXy",
        "colab_type": "code",
        "colab": {
          "base_uri": "https://localhost:8080/",
          "height": 52
        },
        "outputId": "793d0ed5-fe76-4258-9b7c-11a6d8a4b9d2"
      },
      "cell_type": "code",
      "source": [
        "print(\"X_train shape : {}\".format(x_train.shape))\n",
        "print(\"X_test shape  : {}\".format(x_test.shape))"
      ],
      "execution_count": 5,
      "outputs": [
        {
          "output_type": "stream",
          "text": [
            "X_train shape : (60000, 28, 28, 1)\n",
            "X_test shape  : (10000, 28, 28, 1)\n"
          ],
          "name": "stdout"
        }
      ]
    },
    {
      "metadata": {
        "id": "XluMhrGvx39q",
        "colab_type": "text"
      },
      "cell_type": "markdown",
      "source": [
        "## Convert Labels to Categorical"
      ]
    },
    {
      "metadata": {
        "id": "_bqCa8BdxXOy",
        "colab_type": "code",
        "colab": {}
      },
      "cell_type": "code",
      "source": [
        "n_classes = 10 #because we have 10 output\n",
        "\n",
        "y_train = keras.utils.to_categorical(y_train, n_classes)\n",
        "y_test = keras.utils.to_categorical(y_test, n_classes)"
      ],
      "execution_count": 0,
      "outputs": []
    },
    {
      "metadata": {
        "id": "L8fbsGFRx__k",
        "colab_type": "code",
        "colab": {
          "base_uri": "https://localhost:8080/",
          "height": 34
        },
        "outputId": "c0cc2307-88ad-44e4-997a-c01763fd0979"
      },
      "cell_type": "code",
      "source": [
        "y_train[0]"
      ],
      "execution_count": 7,
      "outputs": [
        {
          "output_type": "execute_result",
          "data": {
            "text/plain": [
              "array([0., 0., 0., 0., 0., 1., 0., 0., 0., 0.], dtype=float32)"
            ]
          },
          "metadata": {
            "tags": []
          },
          "execution_count": 7
        }
      ]
    },
    {
      "metadata": {
        "id": "_gKfO9W2x_8g",
        "colab_type": "code",
        "colab": {}
      },
      "cell_type": "code",
      "source": [
        ""
      ],
      "execution_count": 0,
      "outputs": []
    },
    {
      "metadata": {
        "id": "XRPEEHaJyYfi",
        "colab_type": "text"
      },
      "cell_type": "markdown",
      "source": [
        "# Create Model"
      ]
    },
    {
      "metadata": {
        "id": "lSZ-0Phjx_5y",
        "colab_type": "code",
        "colab": {}
      },
      "cell_type": "code",
      "source": [
        "model = Sequential()"
      ],
      "execution_count": 0,
      "outputs": []
    },
    {
      "metadata": {
        "id": "ZSJ0NPxRx_25",
        "colab_type": "code",
        "colab": {}
      },
      "cell_type": "code",
      "source": [
        "model = Sequential()\n",
        "model.add(Conv2D(32, (3, 3),padding='same' ,activation='relu',input_shape=(28, 28, 1), kernel_regularizer=l2(0.01)))\n",
        "model.add(MaxPooling2D((2, 2)))\n",
        "model.add(Dropout(0.25))\n",
        "\n",
        "model.add(Conv2D(64, (3, 3), activation='relu'))\n",
        "model.add(MaxPooling2D((2, 2)))\n",
        "model.add(Dropout(0.25))\n",
        "\n",
        "model.add(Conv2D(64, (3, 3), activation='relu'))\n",
        "model.add(MaxPooling2D((2, 2)))\n",
        "model.add(Dropout(0.25))\n",
        "          \n",
        "model.add(Flatten())\n",
        "model.add(Dense(64, activation='relu',kernel_regularizer=l2(0.01)))\n",
        "model.add(Dropout(0.5))\n",
        "model.add(Dense(10, activation='softmax'))"
      ],
      "execution_count": 0,
      "outputs": []
    },
    {
      "metadata": {
        "id": "etkUjfBvzMfh",
        "colab_type": "code",
        "colab": {
          "base_uri": "https://localhost:8080/",
          "height": 603
        },
        "outputId": "dd996a6c-56c5-49ba-f3bd-4fe3a41a8146"
      },
      "cell_type": "code",
      "source": [
        "model.summary()"
      ],
      "execution_count": 26,
      "outputs": [
        {
          "output_type": "stream",
          "text": [
            "_________________________________________________________________\n",
            "Layer (type)                 Output Shape              Param #   \n",
            "=================================================================\n",
            "conv2d_50 (Conv2D)           (None, 28, 28, 32)        320       \n",
            "_________________________________________________________________\n",
            "max_pooling2d_39 (MaxPooling (None, 14, 14, 32)        0         \n",
            "_________________________________________________________________\n",
            "dropout_9 (Dropout)          (None, 14, 14, 32)        0         \n",
            "_________________________________________________________________\n",
            "conv2d_51 (Conv2D)           (None, 12, 12, 64)        18496     \n",
            "_________________________________________________________________\n",
            "max_pooling2d_40 (MaxPooling (None, 6, 6, 64)          0         \n",
            "_________________________________________________________________\n",
            "dropout_10 (Dropout)         (None, 6, 6, 64)          0         \n",
            "_________________________________________________________________\n",
            "conv2d_52 (Conv2D)           (None, 4, 4, 64)          36928     \n",
            "_________________________________________________________________\n",
            "max_pooling2d_41 (MaxPooling (None, 2, 2, 64)          0         \n",
            "_________________________________________________________________\n",
            "dropout_11 (Dropout)         (None, 2, 2, 64)          0         \n",
            "_________________________________________________________________\n",
            "flatten_4 (Flatten)          (None, 256)               0         \n",
            "_________________________________________________________________\n",
            "dense_7 (Dense)              (None, 64)                16448     \n",
            "_________________________________________________________________\n",
            "dropout_12 (Dropout)         (None, 64)                0         \n",
            "_________________________________________________________________\n",
            "dense_8 (Dense)              (None, 10)                650       \n",
            "=================================================================\n",
            "Total params: 72,842\n",
            "Trainable params: 72,842\n",
            "Non-trainable params: 0\n",
            "_________________________________________________________________\n"
          ],
          "name": "stdout"
        }
      ]
    },
    {
      "metadata": {
        "id": "VwCSbc8x21lk",
        "colab_type": "code",
        "colab": {}
      },
      "cell_type": "code",
      "source": [
        "model.compile(loss='categorical_crossentropy', optimizer='RMSprop'  ,metrics=['accuracy'])"
      ],
      "execution_count": 0,
      "outputs": []
    },
    {
      "metadata": {
        "id": "vp10oKYx5hjk",
        "colab_type": "text"
      },
      "cell_type": "markdown",
      "source": [
        "## Run Model"
      ]
    },
    {
      "metadata": {
        "id": "f0-SdqF83Efh",
        "colab_type": "code",
        "colab": {
          "base_uri": "https://localhost:8080/",
          "height": 1903
        },
        "outputId": "445a8245-42cc-44f5-9fc5-92497f4880d1"
      },
      "cell_type": "code",
      "source": [
        "model.fit(x_train, y_train, epochs=50, batch_size=128 ,validation_data=(x_test, y_test))"
      ],
      "execution_count": 28,
      "outputs": [
        {
          "output_type": "stream",
          "text": [
            "WARNING:tensorflow:From /usr/local/lib/python3.6/dist-packages/tensorflow/python/ops/math_ops.py:3066: to_int32 (from tensorflow.python.ops.math_ops) is deprecated and will be removed in a future version.\n",
            "Instructions for updating:\n",
            "Use tf.cast instead.\n",
            "Train on 60000 samples, validate on 10000 samples\n",
            "Epoch 1/50\n",
            "60000/60000 [==============================] - 11s 191us/step - loss: 0.8894 - acc: 0.8118 - val_loss: 0.2271 - val_acc: 0.9747\n",
            "Epoch 2/50\n",
            "60000/60000 [==============================] - 6s 103us/step - loss: 0.2902 - acc: 0.9450 - val_loss: 0.1402 - val_acc: 0.9806\n",
            "Epoch 3/50\n",
            "60000/60000 [==============================] - 6s 103us/step - loss: 0.2159 - acc: 0.9574 - val_loss: 0.1096 - val_acc: 0.9848\n",
            "Epoch 4/50\n",
            "60000/60000 [==============================] - 6s 103us/step - loss: 0.1866 - acc: 0.9637 - val_loss: 0.1001 - val_acc: 0.9856\n",
            "Epoch 5/50\n",
            "60000/60000 [==============================] - 6s 103us/step - loss: 0.1699 - acc: 0.9667 - val_loss: 0.1003 - val_acc: 0.9848\n",
            "Epoch 6/50\n",
            "60000/60000 [==============================] - 6s 102us/step - loss: 0.1586 - acc: 0.9687 - val_loss: 0.0845 - val_acc: 0.9871\n",
            "Epoch 7/50\n",
            "60000/60000 [==============================] - 6s 103us/step - loss: 0.1473 - acc: 0.9707 - val_loss: 0.0774 - val_acc: 0.9892\n",
            "Epoch 8/50\n",
            "60000/60000 [==============================] - 6s 103us/step - loss: 0.1420 - acc: 0.9723 - val_loss: 0.0763 - val_acc: 0.9889\n",
            "Epoch 9/50\n",
            "60000/60000 [==============================] - 6s 103us/step - loss: 0.1370 - acc: 0.9731 - val_loss: 0.0726 - val_acc: 0.9890\n",
            "Epoch 10/50\n",
            "60000/60000 [==============================] - 6s 103us/step - loss: 0.1303 - acc: 0.9749 - val_loss: 0.0762 - val_acc: 0.9879\n",
            "Epoch 11/50\n",
            "60000/60000 [==============================] - 6s 103us/step - loss: 0.1259 - acc: 0.9749 - val_loss: 0.0704 - val_acc: 0.9902\n",
            "Epoch 12/50\n",
            "60000/60000 [==============================] - 6s 103us/step - loss: 0.1249 - acc: 0.9763 - val_loss: 0.0648 - val_acc: 0.9911\n",
            "Epoch 13/50\n",
            "60000/60000 [==============================] - 6s 103us/step - loss: 0.1202 - acc: 0.9771 - val_loss: 0.0644 - val_acc: 0.9920\n",
            "Epoch 14/50\n",
            "60000/60000 [==============================] - 6s 103us/step - loss: 0.1165 - acc: 0.9777 - val_loss: 0.0653 - val_acc: 0.9912\n",
            "Epoch 15/50\n",
            "60000/60000 [==============================] - 6s 103us/step - loss: 0.1146 - acc: 0.9783 - val_loss: 0.0594 - val_acc: 0.9920\n",
            "Epoch 16/50\n",
            "60000/60000 [==============================] - 6s 103us/step - loss: 0.1155 - acc: 0.9777 - val_loss: 0.0605 - val_acc: 0.9913\n",
            "Epoch 17/50\n",
            "60000/60000 [==============================] - 6s 103us/step - loss: 0.1116 - acc: 0.9791 - val_loss: 0.0628 - val_acc: 0.9912\n",
            "Epoch 18/50\n",
            "60000/60000 [==============================] - 6s 103us/step - loss: 0.1116 - acc: 0.9787 - val_loss: 0.0714 - val_acc: 0.9880\n",
            "Epoch 19/50\n",
            "60000/60000 [==============================] - 6s 103us/step - loss: 0.1089 - acc: 0.9795 - val_loss: 0.0629 - val_acc: 0.9908\n",
            "Epoch 20/50\n",
            "60000/60000 [==============================] - 6s 103us/step - loss: 0.1099 - acc: 0.9790 - val_loss: 0.0592 - val_acc: 0.9925\n",
            "Epoch 21/50\n",
            "60000/60000 [==============================] - 6s 103us/step - loss: 0.1062 - acc: 0.9802 - val_loss: 0.0562 - val_acc: 0.9923\n",
            "Epoch 22/50\n",
            "60000/60000 [==============================] - 6s 103us/step - loss: 0.1058 - acc: 0.9798 - val_loss: 0.0558 - val_acc: 0.9921\n",
            "Epoch 23/50\n",
            "60000/60000 [==============================] - 6s 103us/step - loss: 0.1044 - acc: 0.9803 - val_loss: 0.0597 - val_acc: 0.9916\n",
            "Epoch 24/50\n",
            "60000/60000 [==============================] - 6s 102us/step - loss: 0.1038 - acc: 0.9805 - val_loss: 0.0602 - val_acc: 0.9925\n",
            "Epoch 25/50\n",
            "60000/60000 [==============================] - 6s 103us/step - loss: 0.1010 - acc: 0.9809 - val_loss: 0.0575 - val_acc: 0.9922\n",
            "Epoch 26/50\n",
            "60000/60000 [==============================] - 6s 102us/step - loss: 0.1021 - acc: 0.9810 - val_loss: 0.0566 - val_acc: 0.9913\n",
            "Epoch 27/50\n",
            "60000/60000 [==============================] - 6s 102us/step - loss: 0.0989 - acc: 0.9811 - val_loss: 0.0565 - val_acc: 0.9921\n",
            "Epoch 28/50\n",
            "60000/60000 [==============================] - 6s 102us/step - loss: 0.0992 - acc: 0.9815 - val_loss: 0.0625 - val_acc: 0.9916\n",
            "Epoch 29/50\n",
            "60000/60000 [==============================] - 6s 102us/step - loss: 0.1025 - acc: 0.9806 - val_loss: 0.0571 - val_acc: 0.9923\n",
            "Epoch 30/50\n",
            "60000/60000 [==============================] - 6s 103us/step - loss: 0.1001 - acc: 0.9813 - val_loss: 0.0567 - val_acc: 0.9917\n",
            "Epoch 31/50\n",
            "60000/60000 [==============================] - 6s 102us/step - loss: 0.0974 - acc: 0.9812 - val_loss: 0.0568 - val_acc: 0.9924\n",
            "Epoch 32/50\n",
            "60000/60000 [==============================] - 6s 102us/step - loss: 0.0997 - acc: 0.9817 - val_loss: 0.0569 - val_acc: 0.9920\n",
            "Epoch 33/50\n",
            "60000/60000 [==============================] - 6s 103us/step - loss: 0.0974 - acc: 0.9823 - val_loss: 0.0566 - val_acc: 0.9926\n",
            "Epoch 34/50\n",
            "60000/60000 [==============================] - 6s 102us/step - loss: 0.0961 - acc: 0.9821 - val_loss: 0.0545 - val_acc: 0.9921\n",
            "Epoch 35/50\n",
            "60000/60000 [==============================] - 6s 102us/step - loss: 0.0969 - acc: 0.9821 - val_loss: 0.0535 - val_acc: 0.9924\n",
            "Epoch 36/50\n",
            "60000/60000 [==============================] - 6s 103us/step - loss: 0.0991 - acc: 0.9818 - val_loss: 0.0616 - val_acc: 0.9916\n",
            "Epoch 37/50\n",
            "60000/60000 [==============================] - 6s 102us/step - loss: 0.0962 - acc: 0.9821 - val_loss: 0.0539 - val_acc: 0.9925\n",
            "Epoch 38/50\n",
            "60000/60000 [==============================] - 6s 103us/step - loss: 0.0953 - acc: 0.9821 - val_loss: 0.0556 - val_acc: 0.9929\n",
            "Epoch 39/50\n",
            "60000/60000 [==============================] - 6s 103us/step - loss: 0.0950 - acc: 0.9823 - val_loss: 0.0566 - val_acc: 0.9924\n",
            "Epoch 40/50\n",
            "60000/60000 [==============================] - 6s 102us/step - loss: 0.0960 - acc: 0.9824 - val_loss: 0.0539 - val_acc: 0.9922\n",
            "Epoch 41/50\n",
            "60000/60000 [==============================] - 6s 102us/step - loss: 0.0941 - acc: 0.9831 - val_loss: 0.0658 - val_acc: 0.9899\n",
            "Epoch 42/50\n",
            "60000/60000 [==============================] - 6s 102us/step - loss: 0.0971 - acc: 0.9817 - val_loss: 0.0556 - val_acc: 0.9924\n",
            "Epoch 43/50\n",
            "60000/60000 [==============================] - 6s 102us/step - loss: 0.0951 - acc: 0.9820 - val_loss: 0.0669 - val_acc: 0.9913\n",
            "Epoch 44/50\n",
            "60000/60000 [==============================] - 6s 102us/step - loss: 0.0961 - acc: 0.9824 - val_loss: 0.0580 - val_acc: 0.9919\n",
            "Epoch 45/50\n",
            "60000/60000 [==============================] - 6s 102us/step - loss: 0.0952 - acc: 0.9824 - val_loss: 0.0551 - val_acc: 0.9930\n",
            "Epoch 46/50\n",
            "60000/60000 [==============================] - 6s 102us/step - loss: 0.0975 - acc: 0.9826 - val_loss: 0.0541 - val_acc: 0.9927\n",
            "Epoch 47/50\n",
            "60000/60000 [==============================] - 6s 102us/step - loss: 0.0948 - acc: 0.9829 - val_loss: 0.0543 - val_acc: 0.9924\n",
            "Epoch 48/50\n",
            "60000/60000 [==============================] - 6s 102us/step - loss: 0.0951 - acc: 0.9822 - val_loss: 0.0577 - val_acc: 0.9924\n",
            "Epoch 49/50\n",
            "60000/60000 [==============================] - 6s 103us/step - loss: 0.0957 - acc: 0.9827 - val_loss: 0.0557 - val_acc: 0.9922\n",
            "Epoch 50/50\n",
            "60000/60000 [==============================] - 6s 103us/step - loss: 0.0957 - acc: 0.9819 - val_loss: 0.0561 - val_acc: 0.9933\n"
          ],
          "name": "stdout"
        },
        {
          "output_type": "execute_result",
          "data": {
            "text/plain": [
              "<keras.callbacks.History at 0x7fbbe4c3c940>"
            ]
          },
          "metadata": {
            "tags": []
          },
          "execution_count": 28
        }
      ]
    },
    {
      "metadata": {
        "id": "uQDX-GQv3O9B",
        "colab_type": "code",
        "colab": {
          "base_uri": "https://localhost:8080/",
          "height": 563
        },
        "outputId": "ed9a5801-9383-40db-f13f-74f2589f4b78"
      },
      "cell_type": "code",
      "source": [
        "acc      = model.history.history['acc']\n",
        "val_acc  = model.history.history['acc']\n",
        "\n",
        "loss     = model.history.history['acc']\n",
        "val_loss = model.history.history['acc']\n",
        "\n",
        "epochs = range(1, len(acc) + 1)\n",
        "\n",
        "plt.grid()\n",
        "plt.plot(epochs, acc, 'bo', label='Training acc')\n",
        "plt.plot(epochs, val_acc, 'b', label='Loss acc')\n",
        "plt.title('Traning and Validation Accuracy')\n",
        "plt.figure()\n",
        "plt.grid()\n",
        "\n",
        "plt.plot(epochs, loss, 'bo', label='Validation  acc')\n",
        "plt.plot(epochs, val_loss, 'b', label='Val Loss')\n",
        "plt.title('Training and Validation Loss')\n",
        "plt.legend()"
      ],
      "execution_count": 36,
      "outputs": [
        {
          "output_type": "execute_result",
          "data": {
            "text/plain": [
              "<matplotlib.legend.Legend at 0x7fbbe043b898>"
            ]
          },
          "metadata": {
            "tags": []
          },
          "execution_count": 36
        },
        {
          "output_type": "display_data",
          "data": {
            "image/png": "[encoded data removed]",
            "text/plain": [
              "<Figure size 432x288 with 1 Axes>"
            ]
          },
          "metadata": {
            "tags": []
          }
        },
        {
          "output_type": "display_data",
          "data": {
            "image/png": "[encoded data removed]",
            "text/plain": [
              "<Figure size 432x288 with 1 Axes>"
            ]
          },
          "metadata": {
            "tags": []
          }
        }
      ]
    },
    {
      "metadata": {
        "id": "q9rArxs-4mEo",
        "colab_type": "code",
        "colab": {}
      },
      "cell_type": "code",
      "source": [
        ""
      ],
      "execution_count": 0,
      "outputs": []
    }
  ]
}